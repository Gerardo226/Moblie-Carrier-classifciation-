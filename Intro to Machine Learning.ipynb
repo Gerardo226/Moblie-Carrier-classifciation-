{
 "cells": [
  {
   "cell_type": "markdown",
   "id": "72a70e7b",
   "metadata": {},
   "source": [
    "# Project description\n",
    "Mobile carrier Megaline has found out that many of their subscribers use legacy plans. They want to develop a model that would analyze subscribers' behavior and recommend one of Megaline's newer plans: Smart or Ultra."
   ]
  },
  {
   "cell_type": "markdown",
   "id": "896a0903",
   "metadata": {},
   "source": [
    "# Description of the data\n",
    "Every observation in the dataset contains average monthly behavior information about one user. The information given is as follows:\n",
    "\n",
    "сalls — number of calls,\n",
    "\n",
    "minutes — total call duration in minutes,\n",
    "\n",
    "messages — number of text messages,\n",
    "\n",
    "mb_used — Internet traffic used in MB,\n",
    "\n",
    "is_ultra — plan for the current month (Ultra - 1, Smart - 0)."
   ]
  },
  {
   "cell_type": "code",
   "execution_count": 11,
   "id": "784bf6fe",
   "metadata": {},
   "outputs": [],
   "source": [
    "import pandas as pd\n",
    "import matplotlib.pyplot as plt\n",
    "import seaborn as sns\n",
    "from sklearn.model_selection import train_test_split\n",
    "from sklearn.tree import DecisionTreeClassifier\n",
    "from sklearn.metrics import accuracy_score\n",
    "from sklearn.linear_model import LogisticRegression \n",
    "from sklearn.ensemble import RandomForestClassifier\n",
    "from sklearn.dummy import DummyClassifier\n",
    "\n",
    "import warnings\n",
    "warnings.filterwarnings('ignore')"
   ]
  },
  {
   "cell_type": "code",
   "execution_count": 3,
   "id": "a06165e7",
   "metadata": {},
   "outputs": [],
   "source": [
    "try:\n",
    "    data = pd.read_csv('users_behavior (2).csv')\n",
    "    \n",
    "except:\n",
    "    data = pd.read_csv('/datasets/users_behavior.csv')    "
   ]
  },
  {
   "cell_type": "markdown",
   "id": "f41af1a8",
   "metadata": {},
   "source": [
    "# Overview of Data"
   ]
  },
  {
   "cell_type": "code",
   "execution_count": 4,
   "id": "81e89ef1",
   "metadata": {},
   "outputs": [
    {
     "data": {
      "text/html": [
       "<div>\n",
       "<style scoped>\n",
       "    .dataframe tbody tr th:only-of-type {\n",
       "        vertical-align: middle;\n",
       "    }\n",
       "\n",
       "    .dataframe tbody tr th {\n",
       "        vertical-align: top;\n",
       "    }\n",
       "\n",
       "    .dataframe thead th {\n",
       "        text-align: right;\n",
       "    }\n",
       "</style>\n",
       "<table border=\"1\" class=\"dataframe\">\n",
       "  <thead>\n",
       "    <tr style=\"text-align: right;\">\n",
       "      <th></th>\n",
       "      <th>calls</th>\n",
       "      <th>minutes</th>\n",
       "      <th>messages</th>\n",
       "      <th>mb_used</th>\n",
       "      <th>is_ultra</th>\n",
       "    </tr>\n",
       "  </thead>\n",
       "  <tbody>\n",
       "    <tr>\n",
       "      <th>0</th>\n",
       "      <td>40.0</td>\n",
       "      <td>311.90</td>\n",
       "      <td>83.0</td>\n",
       "      <td>19915.42</td>\n",
       "      <td>0</td>\n",
       "    </tr>\n",
       "    <tr>\n",
       "      <th>1</th>\n",
       "      <td>85.0</td>\n",
       "      <td>516.75</td>\n",
       "      <td>56.0</td>\n",
       "      <td>22696.96</td>\n",
       "      <td>0</td>\n",
       "    </tr>\n",
       "    <tr>\n",
       "      <th>2</th>\n",
       "      <td>77.0</td>\n",
       "      <td>467.66</td>\n",
       "      <td>86.0</td>\n",
       "      <td>21060.45</td>\n",
       "      <td>0</td>\n",
       "    </tr>\n",
       "    <tr>\n",
       "      <th>3</th>\n",
       "      <td>106.0</td>\n",
       "      <td>745.53</td>\n",
       "      <td>81.0</td>\n",
       "      <td>8437.39</td>\n",
       "      <td>1</td>\n",
       "    </tr>\n",
       "    <tr>\n",
       "      <th>4</th>\n",
       "      <td>66.0</td>\n",
       "      <td>418.74</td>\n",
       "      <td>1.0</td>\n",
       "      <td>14502.75</td>\n",
       "      <td>0</td>\n",
       "    </tr>\n",
       "  </tbody>\n",
       "</table>\n",
       "</div>"
      ],
      "text/plain": [
       "   calls  minutes  messages   mb_used  is_ultra\n",
       "0   40.0   311.90      83.0  19915.42         0\n",
       "1   85.0   516.75      56.0  22696.96         0\n",
       "2   77.0   467.66      86.0  21060.45         0\n",
       "3  106.0   745.53      81.0   8437.39         1\n",
       "4   66.0   418.74       1.0  14502.75         0"
      ]
     },
     "execution_count": 4,
     "metadata": {},
     "output_type": "execute_result"
    }
   ],
   "source": [
    "data.head()"
   ]
  },
  {
   "cell_type": "code",
   "execution_count": 5,
   "id": "d6a7a500",
   "metadata": {},
   "outputs": [
    {
     "name": "stdout",
     "output_type": "stream",
     "text": [
      "<class 'pandas.core.frame.DataFrame'>\n",
      "RangeIndex: 3214 entries, 0 to 3213\n",
      "Data columns (total 5 columns):\n",
      " #   Column    Non-Null Count  Dtype  \n",
      "---  ------    --------------  -----  \n",
      " 0   calls     3214 non-null   float64\n",
      " 1   minutes   3214 non-null   float64\n",
      " 2   messages  3214 non-null   float64\n",
      " 3   mb_used   3214 non-null   float64\n",
      " 4   is_ultra  3214 non-null   int64  \n",
      "dtypes: float64(4), int64(1)\n",
      "memory usage: 125.7 KB\n"
     ]
    }
   ],
   "source": [
    "#checking dtypes \n",
    "data.info()"
   ]
  },
  {
   "cell_type": "code",
   "execution_count": 6,
   "id": "50c79c1a",
   "metadata": {},
   "outputs": [
    {
     "data": {
      "text/html": [
       "<div>\n",
       "<style scoped>\n",
       "    .dataframe tbody tr th:only-of-type {\n",
       "        vertical-align: middle;\n",
       "    }\n",
       "\n",
       "    .dataframe tbody tr th {\n",
       "        vertical-align: top;\n",
       "    }\n",
       "\n",
       "    .dataframe thead th {\n",
       "        text-align: right;\n",
       "    }\n",
       "</style>\n",
       "<table border=\"1\" class=\"dataframe\">\n",
       "  <thead>\n",
       "    <tr style=\"text-align: right;\">\n",
       "      <th></th>\n",
       "      <th>calls</th>\n",
       "      <th>minutes</th>\n",
       "      <th>messages</th>\n",
       "      <th>mb_used</th>\n",
       "      <th>is_ultra</th>\n",
       "    </tr>\n",
       "  </thead>\n",
       "  <tbody>\n",
       "    <tr>\n",
       "      <th>count</th>\n",
       "      <td>3214.000000</td>\n",
       "      <td>3214.000000</td>\n",
       "      <td>3214.000000</td>\n",
       "      <td>3214.000000</td>\n",
       "      <td>3214.000000</td>\n",
       "    </tr>\n",
       "    <tr>\n",
       "      <th>mean</th>\n",
       "      <td>63.038892</td>\n",
       "      <td>438.208787</td>\n",
       "      <td>38.281269</td>\n",
       "      <td>17207.673836</td>\n",
       "      <td>0.306472</td>\n",
       "    </tr>\n",
       "    <tr>\n",
       "      <th>std</th>\n",
       "      <td>33.236368</td>\n",
       "      <td>234.569872</td>\n",
       "      <td>36.148326</td>\n",
       "      <td>7570.968246</td>\n",
       "      <td>0.461100</td>\n",
       "    </tr>\n",
       "    <tr>\n",
       "      <th>min</th>\n",
       "      <td>0.000000</td>\n",
       "      <td>0.000000</td>\n",
       "      <td>0.000000</td>\n",
       "      <td>0.000000</td>\n",
       "      <td>0.000000</td>\n",
       "    </tr>\n",
       "    <tr>\n",
       "      <th>25%</th>\n",
       "      <td>40.000000</td>\n",
       "      <td>274.575000</td>\n",
       "      <td>9.000000</td>\n",
       "      <td>12491.902500</td>\n",
       "      <td>0.000000</td>\n",
       "    </tr>\n",
       "    <tr>\n",
       "      <th>50%</th>\n",
       "      <td>62.000000</td>\n",
       "      <td>430.600000</td>\n",
       "      <td>30.000000</td>\n",
       "      <td>16943.235000</td>\n",
       "      <td>0.000000</td>\n",
       "    </tr>\n",
       "    <tr>\n",
       "      <th>75%</th>\n",
       "      <td>82.000000</td>\n",
       "      <td>571.927500</td>\n",
       "      <td>57.000000</td>\n",
       "      <td>21424.700000</td>\n",
       "      <td>1.000000</td>\n",
       "    </tr>\n",
       "    <tr>\n",
       "      <th>max</th>\n",
       "      <td>244.000000</td>\n",
       "      <td>1632.060000</td>\n",
       "      <td>224.000000</td>\n",
       "      <td>49745.730000</td>\n",
       "      <td>1.000000</td>\n",
       "    </tr>\n",
       "  </tbody>\n",
       "</table>\n",
       "</div>"
      ],
      "text/plain": [
       "             calls      minutes     messages       mb_used     is_ultra\n",
       "count  3214.000000  3214.000000  3214.000000   3214.000000  3214.000000\n",
       "mean     63.038892   438.208787    38.281269  17207.673836     0.306472\n",
       "std      33.236368   234.569872    36.148326   7570.968246     0.461100\n",
       "min       0.000000     0.000000     0.000000      0.000000     0.000000\n",
       "25%      40.000000   274.575000     9.000000  12491.902500     0.000000\n",
       "50%      62.000000   430.600000    30.000000  16943.235000     0.000000\n",
       "75%      82.000000   571.927500    57.000000  21424.700000     1.000000\n",
       "max     244.000000  1632.060000   224.000000  49745.730000     1.000000"
      ]
     },
     "execution_count": 6,
     "metadata": {},
     "output_type": "execute_result"
    }
   ],
   "source": [
    "#summary descriptions of our data \n",
    "data.describe()"
   ]
  },
  {
   "cell_type": "code",
   "execution_count": 7,
   "id": "aeea9dd6",
   "metadata": {},
   "outputs": [
    {
     "data": {
      "text/plain": [
       "calls       0\n",
       "minutes     0\n",
       "messages    0\n",
       "mb_used     0\n",
       "is_ultra    0\n",
       "dtype: int64"
      ]
     },
     "execution_count": 7,
     "metadata": {},
     "output_type": "execute_result"
    }
   ],
   "source": [
    "#checking for na Values \n",
    "data.isna().sum()"
   ]
  },
  {
   "cell_type": "code",
   "execution_count": 8,
   "id": "7e5d864d",
   "metadata": {},
   "outputs": [
    {
     "data": {
      "text/html": [
       "<div>\n",
       "<style scoped>\n",
       "    .dataframe tbody tr th:only-of-type {\n",
       "        vertical-align: middle;\n",
       "    }\n",
       "\n",
       "    .dataframe tbody tr th {\n",
       "        vertical-align: top;\n",
       "    }\n",
       "\n",
       "    .dataframe thead th {\n",
       "        text-align: right;\n",
       "    }\n",
       "</style>\n",
       "<table border=\"1\" class=\"dataframe\">\n",
       "  <thead>\n",
       "    <tr style=\"text-align: right;\">\n",
       "      <th></th>\n",
       "      <th>calls</th>\n",
       "      <th>minutes</th>\n",
       "      <th>messages</th>\n",
       "      <th>mb_used</th>\n",
       "      <th>is_ultra</th>\n",
       "    </tr>\n",
       "  </thead>\n",
       "  <tbody>\n",
       "  </tbody>\n",
       "</table>\n",
       "</div>"
      ],
      "text/plain": [
       "Empty DataFrame\n",
       "Columns: [calls, minutes, messages, mb_used, is_ultra]\n",
       "Index: []"
      ]
     },
     "execution_count": 8,
     "metadata": {},
     "output_type": "execute_result"
    }
   ],
   "source": [
    "#checking for duplicates \n",
    "duplicates = data[data.duplicated()]\n",
    "duplicates"
   ]
  },
  {
   "cell_type": "code",
   "execution_count": 9,
   "id": "493f1d5a",
   "metadata": {},
   "outputs": [
    {
     "data": {
      "text/plain": [
       "calls       62\n",
       "minutes     61\n",
       "messages    91\n",
       "mb_used     77\n",
       "is_ultra     0\n",
       "dtype: int64"
      ]
     },
     "execution_count": 9,
     "metadata": {},
     "output_type": "execute_result"
    }
   ],
   "source": [
    "#outliers in our data set \n",
    "Q1 = data.quantile(0.25)\n",
    "Q3 = data.quantile(0.75)\n",
    "IQR = Q3 - Q1\n",
    "outliers = ((data < (Q1 - 1.5 * IQR)) | (data > (Q3 + 1.5 * IQR))).sum()\n",
    "outliers"
   ]
  },
  {
   "cell_type": "code",
   "execution_count": 12,
   "id": "2d93d819",
   "metadata": {},
   "outputs": [
    {
     "data": {
      "image/png": "[encoded data removed]",
      "text/plain": [
       "<Figure size 432x288 with 1 Axes>"
      ]
     },
     "metadata": {
      "needs_background": "light"
     },
     "output_type": "display_data"
    },
    {
     "data": {
      "image/png": "[encoded data removed]",
      "text/plain": [
       "<Figure size 432x288 with 1 Axes>"
      ]
     },
     "metadata": {
      "needs_background": "light"
     },
     "output_type": "display_data"
    },
    {
     "data": {
      "image/png": "[encoded data removed]",
      "text/plain": [
       "<Figure size 432x288 with 1 Axes>"
      ]
     },
     "metadata": {
      "needs_background": "light"
     },
     "output_type": "display_data"
    },
    {
     "data": {
      "image/png": "[encoded data removed]",
      "text/plain": [
       "<Figure size 432x288 with 1 Axes>"
      ]
     },
     "metadata": {
      "needs_background": "light"
     },
     "output_type": "display_data"
    }
   ],
   "source": [
    "for cols in ['calls','minutes','messages','mb_used']:\n",
    "    sns.distplot( a=data[cols], hist=True, kde=True )\n",
    "    plt.axvline(x = data[cols].median(), color='g', linestyle='-', label=\"Median\")\n",
    "    plt.axvline(x = data[cols].mean(), color='r', linestyle='-', label=\"Mean\")\n",
    "    plt.title('Distribution of {}'.format(cols.upper()))\n",
    "    plt.xlabel(cols)\n",
    "    plt.ylabel(\"Frequency\")\n",
    "    plt.show()"
   ]
  },
  {
   "cell_type": "markdown",
   "id": "4b643e42",
   "metadata": {},
   "source": [
    "# Analysis of our Target Variable"
   ]
  },
  {
   "cell_type": "code",
   "execution_count": 13,
   "id": "5d7241a3",
   "metadata": {},
   "outputs": [
    {
     "data": {
      "text/plain": [
       "0    2229\n",
       "1     985\n",
       "Name: is_ultra, dtype: int64"
      ]
     },
     "metadata": {},
     "output_type": "display_data"
    },
    {
     "data": {
      "text/plain": [
       "<AxesSubplot:>"
      ]
     },
     "execution_count": 13,
     "metadata": {},
     "output_type": "execute_result"
    },
    {
     "data": {
      "image/png": "[encoded data removed]",
      "text/plain": [
       "<Figure size 432x288 with 1 Axes>"
      ]
     },
     "metadata": {
      "needs_background": "light"
     },
     "output_type": "display_data"
    }
   ],
   "source": [
    "display(data['is_ultra'].value_counts())\n",
    "data['is_ultra'].value_counts().plot(kind = 'bar')"
   ]
  },
  {
   "cell_type": "markdown",
   "id": "373d8547",
   "metadata": {},
   "source": [
    "### We see that our classes are indeed imbalanced: There are  twice as many observations for the \"Smart\" than for the \"Ultra\" plan"
   ]
  },
  {
   "cell_type": "markdown",
   "id": "85abaa85",
   "metadata": {},
   "source": [
    "# Splitting data into train,validation, and test set\n",
    "Lets split the data set into a 80/20 porpotion. "
   ]
  },
  {
   "cell_type": "code",
   "execution_count": 15,
   "id": "a1889bb8",
   "metadata": {},
   "outputs": [],
   "source": [
    "X = data.drop('is_ultra', axis=1)\n",
    "y = data['is_ultra']\n",
    "X_train, X_test, y_train, y_test = train_test_split(X, y, test_size = 0.2, stratify = y, random_state=12345)\n",
    "#split the data again from X_train and y_train to get a  valid set.\n",
    "X_train, X_valid, y_train, y_valid = train_test_split(X_train, y_train, test_size = 0.2,stratify = y_train, random_state=12345)"
   ]
  },
  {
   "cell_type": "markdown",
   "id": "94054f60",
   "metadata": {},
   "source": [
    "# Preliminary Accuracy"
   ]
  },
  {
   "cell_type": "code",
   "execution_count": 16,
   "id": "cbe76d2e",
   "metadata": {},
   "outputs": [
    {
     "name": "stdout",
     "output_type": "stream",
     "text": [
      "[0.6936236391912908, 0.6936236391912908]\n"
     ]
    }
   ],
   "source": [
    "\n",
    "strategies = ['most_frequent', 'prior']\n",
    "test_scores = []\n",
    "\n",
    "for s in strategies:\n",
    "    dclf = DummyClassifier(strategy = s, random_state = 12345)\n",
    "    dclf.fit(X_train, y_train)\n",
    "    score = dclf.score(X_test, y_test)\n",
    "    test_scores.append(score)\n",
    "print(test_scores)"
   ]
  },
  {
   "cell_type": "code",
   "execution_count": 17,
   "id": "57a57311",
   "metadata": {},
   "outputs": [
    {
     "name": "stdout",
     "output_type": "stream",
     "text": [
      "X_train (2056, 4)\n",
      "y_train (2056,)\n",
      "X_valid (515, 4)\n",
      "y_valid (515,)\n",
      "X_test (643, 4)\n",
      "y_test (643,)\n"
     ]
    }
   ],
   "source": [
    "#function to print the variable name \n",
    "def namestr(obj, namespace):\n",
    "    return [name for name in namespace if namespace[name] is obj]\n",
    "#looping over the spilt data to get spilt rows and columns\n",
    "for part in [X_train, y_train, X_valid, y_valid, X_test, y_test]:\n",
    "    print(namestr(part, globals())[0], part.shape)"
   ]
  },
  {
   "cell_type": "code",
   "execution_count": 18,
   "id": "ed778fa6",
   "metadata": {},
   "outputs": [
    {
     "name": "stdout",
     "output_type": "stream",
     "text": [
      " Our baseline accuracy score for our DecisionTree baseline model is: 0.7106796116504854\n"
     ]
    }
   ],
   "source": [
    "model = DecisionTreeClassifier(random_state=12345)\n",
    "model.fit(X_train, y_train)\n",
    "dec_tree = model.predict(X_valid)\n",
    "print(f' Our baseline accuracy score for our DecisionTree baseline model is: {accuracy_score(y_valid, dec_tree)}')"
   ]
  },
  {
   "cell_type": "code",
   "execution_count": 19,
   "id": "83490669",
   "metadata": {},
   "outputs": [
    {
     "name": "stdout",
     "output_type": "stream",
     "text": [
      "The max_depth 1: 0.75728\n",
      "The max_depth 2: 0.77282\n",
      "The max_depth 3: 0.79417\n",
      "The max_depth 4: 0.79417\n",
      "The max_depth 5: 0.80777\n",
      "The max_depth 6: 0.80388\n",
      "The max_depth 7: 0.80194\n",
      "The max_depth 8: 0.80194\n",
      "The max_depth 9: 0.81553\n",
      "The max_depth 10: 0.78835\n"
     ]
    }
   ],
   "source": [
    "for depth in range(1, 11):\n",
    "\tmodel = DecisionTreeClassifier(random_state=12345, max_depth=depth) # create a model with the given depth\n",
    "\tmodel.fit(X_train, y_train) # train the model\n",
    "\tdec_tree = model.predict(X_valid) # get the model's predictions\n",
    "\tdec_result = round(accuracy_score(y_valid, dec_tree),5) # calculate the accuracy\n",
    "\tprint(f'The max_depth {depth}: {dec_result}')"
   ]
  },
  {
   "cell_type": "code",
   "execution_count": 20,
   "id": "bf3aa557",
   "metadata": {},
   "outputs": [
    {
     "name": "stdout",
     "output_type": "stream",
     "text": [
      "Our best Decision Tree Model is:0.80388\n"
     ]
    }
   ],
   "source": [
    "decision_tree = DecisionTreeClassifier(random_state=12345, max_depth=6)\n",
    "decision_tree.fit(X_train, y_train)\n",
    "pred = decision_tree.predict(X_valid)\n",
    "\n",
    "acc_tree = round(accuracy_score(y_valid,pred) , 5)\n",
    "print(f'Our best Decision Tree Model is:{acc_tree}')\n",
    "              "
   ]
  },
  {
   "cell_type": "markdown",
   "id": "e2a11a91",
   "metadata": {},
   "source": [
    "# Random Forest Classifer "
   ]
  },
  {
   "cell_type": "code",
   "execution_count": 21,
   "id": "16284ee4",
   "metadata": {},
   "outputs": [],
   "source": [
    "model = RandomForestClassifier(random_state = 12345)"
   ]
  },
  {
   "cell_type": "code",
   "execution_count": 22,
   "id": "f55db776",
   "metadata": {},
   "outputs": [],
   "source": [
    "model.fit(X_train, y_train)\n",
    "forest_predict = model.predict(X_valid)"
   ]
  },
  {
   "cell_type": "code",
   "execution_count": 23,
   "id": "d4629e7c",
   "metadata": {},
   "outputs": [
    {
     "name": "stdout",
     "output_type": "stream",
     "text": [
      " Our baseline accuracy score for our RandomForest model is: 0.8058252427184466\n"
     ]
    }
   ],
   "source": [
    "print(f' Our baseline accuracy score for our RandomForest model is: {accuracy_score(y_valid, forest_predict)}')"
   ]
  },
  {
   "cell_type": "code",
   "execution_count": 24,
   "id": "b57825c7",
   "metadata": {},
   "outputs": [],
   "source": [
    "#creating a list to input parameters . Then incrementing our n_estimator by 10. and Incrementing our max depth by 1\n",
    "hyper = []\n",
    "\n",
    "for x in range(1,50,10):\n",
    "    for depth in range(1,11):\n",
    "        model = RandomForestClassifier(random_state = 12345, n_estimators = x, max_depth = depth)\n",
    "        model.fit(X_train, y_train)\n",
    "        forest_pred = model.predict(X_valid)\n",
    "        result = round(accuracy_score(y_valid, forest_pred ),5)\n",
    "        hyper.append({'n_estimators':x , 'max_depth':depth, 'score':result})"
   ]
  },
  {
   "cell_type": "code",
   "execution_count": 25,
   "id": "b39114ee",
   "metadata": {},
   "outputs": [
    {
     "data": {
      "text/html": [
       "<div>\n",
       "<style scoped>\n",
       "    .dataframe tbody tr th:only-of-type {\n",
       "        vertical-align: middle;\n",
       "    }\n",
       "\n",
       "    .dataframe tbody tr th {\n",
       "        vertical-align: top;\n",
       "    }\n",
       "\n",
       "    .dataframe thead th {\n",
       "        text-align: right;\n",
       "    }\n",
       "</style>\n",
       "<table border=\"1\" class=\"dataframe\">\n",
       "  <thead>\n",
       "    <tr style=\"text-align: right;\">\n",
       "      <th></th>\n",
       "      <th>n_estimators</th>\n",
       "      <th>max_depth</th>\n",
       "      <th>score</th>\n",
       "    </tr>\n",
       "  </thead>\n",
       "  <tbody>\n",
       "    <tr>\n",
       "      <th>19</th>\n",
       "      <td>11</td>\n",
       "      <td>10</td>\n",
       "      <td>0.8233</td>\n",
       "    </tr>\n",
       "  </tbody>\n",
       "</table>\n",
       "</div>"
      ],
      "text/plain": [
       "    n_estimators  max_depth   score\n",
       "19            11         10  0.8233"
      ]
     },
     "execution_count": 25,
     "metadata": {},
     "output_type": "execute_result"
    }
   ],
   "source": [
    "#We can see that the max results from dataset  \n",
    "best = pd.DataFrame(hyper, columns = ['n_estimators','max_depth','score'])\n",
    "best_para = best[best['score'] == best['score'].max()]\n",
    "best_para"
   ]
  },
  {
   "cell_type": "code",
   "execution_count": 26,
   "id": "f33c9606",
   "metadata": {},
   "outputs": [
    {
     "name": "stdout",
     "output_type": "stream",
     "text": [
      "Our best Random Forest Model is:0.81165\n"
     ]
    }
   ],
   "source": [
    "model = RandomForestClassifier(random_state = 12345, n_estimators = 11, max_depth = 9)\n",
    "model.fit(X_train, y_train)\n",
    "pred = model.predict(X_valid)\n",
    "\n",
    "rf_acc= round(accuracy_score(y_valid,pred) , 5)\n",
    "print(f'Our best Random Forest Model is:{rf_acc}')"
   ]
  },
  {
   "cell_type": "markdown",
   "id": "3d297e40",
   "metadata": {},
   "source": [
    "#  LogisticRegression "
   ]
  },
  {
   "cell_type": "code",
   "execution_count": 27,
   "id": "0f92d9ee",
   "metadata": {},
   "outputs": [
    {
     "name": "stdout",
     "output_type": "stream",
     "text": [
      " Our baseline accuracy score for our LogisticRegression model is: 0.7067961165048544\n"
     ]
    }
   ],
   "source": [
    "model = LogisticRegression(random_state=12345)\n",
    "model.fit(X_train, y_train)\n",
    "lr_predict = model.predict(X_valid)\n",
    "print(f' Our baseline accuracy score for our LogisticRegression model is: {accuracy_score(y_valid, lr_predict)}')"
   ]
  },
  {
   "cell_type": "code",
   "execution_count": 28,
   "id": "3e56c278",
   "metadata": {},
   "outputs": [
    {
     "name": "stdout",
     "output_type": "stream",
     "text": [
      "c_values 10: 0.7068\n",
      "c_values 1.0: 0.7068\n",
      "c_values 0.1: 0.74369\n"
     ]
    }
   ],
   "source": [
    "model = LogisticRegression(random_state=12345)\n",
    "c_values = [ 10, 1.0, 0.1]\n",
    "           \n",
    "for z in c_values:\n",
    "           model = LogisticRegression(random_state=12345, C = z , solver ='lbfgs'  )\n",
    "           model.fit(X_train, y_train)\n",
    "           lr_predict = model.predict(X_valid)\n",
    "           lr_result = round(accuracy_score(y_valid, lr_predict ),5)\n",
    "           print(f'c_values {z}: {lr_result}')\n"
   ]
  },
  {
   "cell_type": "code",
   "execution_count": 29,
   "id": "e65248c1",
   "metadata": {},
   "outputs": [
    {
     "name": "stdout",
     "output_type": "stream",
     "text": [
      " Our best LR model is 0.7068\n"
     ]
    }
   ],
   "source": [
    "LR = LogisticRegression( random_state=12345 )\n",
    "LR.fit(X_train, y_train)     \n",
    "y_pred = LR.predict(X_valid)\n",
    "\n",
    "acc_LR = round(accuracy_score(y_valid,y_pred),5)\n",
    "print(f' Our best LR model is {acc_LR}')"
   ]
  },
  {
   "cell_type": "markdown",
   "id": "6edb30cf",
   "metadata": {},
   "source": [
    "# Our Best Model"
   ]
  },
  {
   "cell_type": "code",
   "execution_count": 30,
   "id": "3a5bc1b5",
   "metadata": {},
   "outputs": [],
   "source": [
    "data_results = {'DecisionTree':acc_tree *100 , 'RandomForest': rf_acc *100,'LogisticRegression':acc_LR*100}"
   ]
  },
  {
   "cell_type": "code",
   "execution_count": 31,
   "id": "47993fe4",
   "metadata": {},
   "outputs": [
    {
     "data": {
      "text/html": [
       "<div>\n",
       "<style scoped>\n",
       "    .dataframe tbody tr th:only-of-type {\n",
       "        vertical-align: middle;\n",
       "    }\n",
       "\n",
       "    .dataframe tbody tr th {\n",
       "        vertical-align: top;\n",
       "    }\n",
       "\n",
       "    .dataframe thead th {\n",
       "        text-align: right;\n",
       "    }\n",
       "</style>\n",
       "<table border=\"1\" class=\"dataframe\">\n",
       "  <thead>\n",
       "    <tr style=\"text-align: right;\">\n",
       "      <th></th>\n",
       "      <th>DecisionTree</th>\n",
       "      <th>RandomForest</th>\n",
       "      <th>LogisticRegression</th>\n",
       "    </tr>\n",
       "  </thead>\n",
       "  <tbody>\n",
       "    <tr>\n",
       "      <th>0</th>\n",
       "      <td>80.388</td>\n",
       "      <td>81.165</td>\n",
       "      <td>70.68</td>\n",
       "    </tr>\n",
       "  </tbody>\n",
       "</table>\n",
       "</div>"
      ],
      "text/plain": [
       "   DecisionTree  RandomForest  LogisticRegression\n",
       "0        80.388        81.165               70.68"
      ]
     },
     "execution_count": 31,
     "metadata": {},
     "output_type": "execute_result"
    }
   ],
   "source": [
    "data_viz = pd.DataFrame(data_results, columns = ['DecisionTree','RandomForest','LogisticRegression'], index=[0])\n",
    "data_viz.head()"
   ]
  },
  {
   "cell_type": "code",
   "execution_count": 32,
   "id": "d06d7687",
   "metadata": {},
   "outputs": [
    {
     "data": {
      "text/plain": [
       "Text(0, 0.5, 'Models')"
      ]
     },
     "execution_count": 32,
     "metadata": {},
     "output_type": "execute_result"
    },
    {
     "data": {
      "image/png": "[encoded data removed]",
      "text/plain": [
       "<Figure size 432x288 with 1 Axes>"
      ]
     },
     "metadata": {
      "needs_background": "light"
     },
     "output_type": "display_data"
    }
   ],
   "source": [
    "data_viz.plot(kind = 'barh')\n",
    "plt.title('Accuracy Score ')\n",
    "plt.xlabel('Percentage of Accuracy')\n",
    "plt.ylabel('Models')"
   ]
  },
  {
   "cell_type": "markdown",
   "id": "297e7be8",
   "metadata": {},
   "source": [
    "#### We can see after training all our models Random Forest has best our best with a 80%"
   ]
  },
  {
   "cell_type": "markdown",
   "id": "e187f922",
   "metadata": {},
   "source": [
    "# Retraining Our Best Model"
   ]
  },
  {
   "cell_type": "code",
   "execution_count": 33,
   "id": "3336a2ed",
   "metadata": {},
   "outputs": [
    {
     "data": {
      "text/plain": [
       "81.64852"
      ]
     },
     "execution_count": 33,
     "metadata": {},
     "output_type": "execute_result"
    }
   ],
   "source": [
    "\n",
    "rf =RandomForestClassifier(random_state = 12345, n_estimators = 11, max_depth = 9)\n",
    "rf.fit(X_train, y_train)\n",
    "y_pred = rf.predict(X_test)\n",
    "\n",
    "acc_rf = round(accuracy_score(y_test,y_pred) * 100, 5)\n",
    "acc_rf"
   ]
  },
  {
   "cell_type": "markdown",
   "id": "39683dab",
   "metadata": {},
   "source": [
    "# Sanity Check\n",
    "#### The final model was 81.69% a 12.33% higher then our baseline model"
   ]
  },
  {
   "cell_type": "markdown",
   "id": "7d891454",
   "metadata": {},
   "source": [
    "# SUMMARY"
   ]
  },
  {
   "cell_type": "markdown",
   "id": "3f9b89ec",
   "metadata": {},
   "source": [
    "Our objective for this project was too  develop classification model for Megaline, a mobile carrier, that would analyze subscribers' behavior and recommend one of Megaline's newer plans: Smart or Ultra.\n",
    "I performed exploratory data analysis  and reach the following conclusions:\n",
    "There no significant outlier in our dataset, no duplicates in our dataset,\n",
    "All columns were distributed closely expect for our messages column showing our mean was greater then our median. I left       the column as is\n",
    "In the next steps I trained and tuned 3 algorithms with the highest accuracy score. I have came to conclusion That Random Forest came out on top with an 80% score. I retrained a Random Forest with the whole training set and came with conclusion with a 81% score. \n"
   ]
  },
  {
   "cell_type": "code",
   "execution_count": null,
   "id": "0efcd758",
   "metadata": {},
   "outputs": [],
   "source": []
  }
 ],
 "metadata": {
  "kernelspec": {
   "display_name": "Python 3 (ipykernel)",
   "language": "python",
   "name": "python3"
  },
  "language_info": {
   "codemirror_mode": {
    "name": "ipython",
    "version": 3
   },
   "file_extension": ".py",
   "mimetype": "text/x-python",
   "name": "python",
   "nbconvert_exporter": "python",
   "pygments_lexer": "ipython3",
   "version": "3.8.8"
  }
 },
 "nbformat": 4,
 "nbformat_minor": 5
}
